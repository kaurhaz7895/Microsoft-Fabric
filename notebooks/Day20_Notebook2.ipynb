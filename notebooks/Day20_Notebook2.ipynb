{
  "cells": [
    {
      "cell_type": "code",
      "source": [
        "%store"
      ],
      "outputs": [
        {
          "output_type": "display_data",
          "data": {
            "application/vnd.livy.statement-meta+json": {
              "spark_pool": null,
              "session_id": "a119976c-bbf0-4bbd-9c1e-d8b0f507e93c",
              "statement_id": 3,
              "state": "finished",
              "livy_statement_state": "available",
              "queued_time": "2023-12-20T21:24:02.7966451Z",
              "session_start_time": "2023-12-20T21:24:03.0540759Z",
              "execution_start_time": "2023-12-20T21:24:12.4557029Z",
              "execution_finish_time": "2023-12-20T21:24:15.1520332Z",
              "spark_jobs": {
                "numbers": {
                  "RUNNING": 0,
                  "UNKNOWN": 0,
                  "SUCCEEDED": 0,
                  "FAILED": 0
                },
                "jobs": [],
                "limit": 20,
                "rule": "ALL_DESC"
              },
              "parent_msg_id": "9e606b8c-1825-4924-bbea-a99a784c7249"
            },
            "text/plain": "StatementMeta(, a119976c-bbf0-4bbd-9c1e-d8b0f507e93c, 3, Finished, Available)"
          },
          "metadata": {}
        },
        {
          "output_type": "stream",
          "name": "stdout",
          "text": [
            "Stored variables and their in-db values:\n"
          ]
        }
      ],
      "execution_count": null,
      "metadata": {
        "jupyter": {
          "source_hidden": false,
          "outputs_hidden": false
        },
        "nteract": {
          "transient": {
            "deleting": false
          }
        }
      },
      "id": "6e6fc355-0cc8-462c-a1d0-4ef2d6542627"
    },
    {
      "cell_type": "code",
      "source": [
        "%store -r data"
      ],
      "outputs": [
        {
          "output_type": "display_data",
          "data": {
            "application/vnd.livy.statement-meta+json": {
              "spark_pool": null,
              "session_id": "a119976c-bbf0-4bbd-9c1e-d8b0f507e93c",
              "statement_id": 4,
              "state": "finished",
              "livy_statement_state": "available",
              "queued_time": "2023-12-20T21:24:18.1593045Z",
              "session_start_time": null,
              "execution_start_time": "2023-12-20T21:24:18.5578032Z",
              "execution_finish_time": "2023-12-20T21:24:18.8925833Z",
              "spark_jobs": {
                "numbers": {
                  "RUNNING": 0,
                  "UNKNOWN": 0,
                  "SUCCEEDED": 0,
                  "FAILED": 0
                },
                "jobs": [],
                "limit": 20,
                "rule": "ALL_DESC"
              },
              "parent_msg_id": "bd96d4e1-64fa-4340-a892-98d883d3138d"
            },
            "text/plain": "StatementMeta(, a119976c-bbf0-4bbd-9c1e-d8b0f507e93c, 4, Finished, Available)"
          },
          "metadata": {}
        },
        {
          "output_type": "stream",
          "name": "stdout",
          "text": [
            "no stored variable or alias data\n"
          ]
        }
      ],
      "execution_count": null,
      "metadata": {
        "jupyter": {
          "source_hidden": false,
          "outputs_hidden": false
        },
        "nteract": {
          "transient": {
            "deleting": false
          }
        }
      },
      "id": "3eba08df-c089-42b8-9dc0-7bfb04e7ef75"
    },
    {
      "cell_type": "markdown",
      "source": [
        "Storing data into files"
      ],
      "metadata": {
        "nteract": {
          "transient": {
            "deleting": false
          }
        }
      },
      "id": "266a08e8-9882-49fa-8426-942a33274f1c"
    },
    {
      "cell_type": "code",
      "source": [
        "import pandas as pd\n",
        "from pyspark.sql import SparkSession\n",
        "\n",
        "# Create SparkSession\n",
        "spark = SparkSession.builder.master(\"local[1]\") \\\n",
        "                    .appName('Day20_sample') \\\n",
        "                    .getOrCreate()\n",
        "\n",
        "\n",
        "df = pd.DataFrame({'num_legs': [2, 4, 8, 0],\n",
        "                   'num_wings': [2, 0, 0, 0],\n",
        "                   'num_specimen_seen': [10, 2, 1, 8]},\n",
        "                  index=['falcon', 'dog', 'spider', 'fish'])\n",
        "dfs = spark.createDataFrame(df)\n",
        "\n",
        "#dfs.show()\n",
        "dfs.write.format(\"csv\").mode('overwrite').save(\"abfss://1860beexxxxxxxxxxxx2e1@onelake.dfs.fabric.microsoft.com/a574d1xxxxxxxxxxxx8f/Files/animals.csv\")\n"
      ],
      "outputs": [
        {
          "output_type": "display_data",
          "data": {
            "application/vnd.livy.statement-meta+json": {
              "spark_pool": null,
              "session_id": "91ea5731-a837-42de-8873-9c18c222de28",
              "statement_id": 44,
              "state": "finished",
              "livy_statement_state": "available",
              "queued_time": "2023-12-20T20:54:40.3507391Z",
              "session_start_time": null,
              "execution_start_time": "2023-12-20T20:54:40.7314791Z",
              "execution_finish_time": "2023-12-20T20:54:45.6814362Z",
              "spark_jobs": {
                "numbers": {
                  "RUNNING": 0,
                  "UNKNOWN": 0,
                  "FAILED": 0,
                  "SUCCEEDED": 1
                },
                "jobs": [
                  {
                    "displayName": "save at NativeMethodAccessorImpl.java:0",
                    "dataWritten": 25,
                    "dataRead": 0,
                    "rowCount": 4,
                    "usageDescription": "",
                    "jobId": 15,
                    "name": "save at NativeMethodAccessorImpl.java:0",
                    "description": "Job group for statement 44:\nimport pandas as pd\nfrom pyspark.sql import SparkSession\n\n# Create SparkSession\nspark = SparkSession.builder.master(\"local[1]\")                     .appName('Day20_sample')                     .getOrCreate()\n\n\ndf = pd.DataFrame({'num_legs': [2, 4, 8, 0],\n                   'num_wings': [2, 0, 0, 0],\n                   'num_specimen_seen': [10, 2, 1, 8]},\n                  index=['falcon', 'dog', 'spider', 'fish'])\ndfs = spark.createDataFrame(df)\n\n#dfs.show()\n\ndfs.write.format(\"csv\").mode('overwrite').save(\"abfss://1860beee-5b6a-48cc-9276-1a8d699b92e1@onelake.dfs.fabric.microsoft.com/a574d1a3-f10e-498e-9202-d95e18c7128f/Files/animals.csv\")\n\n#spark.createDataFrame(df).write.save(\"animals.csv\")\n# df.write.csv(\"/Files/animals.csv\")\n#df.write.format(\"csv\").mode('overwrite').save(\"abfss://1860beee-5b6a-48cc-9276-1a8d699b92e1@onelake.dfs.fabric.microsoft.com/a574d1a3-f10e-498e-9202-d95e18c7128f/Files/animals.csv\")\n\n#df.write.csv(\"abfss://1860beee-5b6a-48cc-9276-1a8d699b92e1@onelake.dfs.fabric.microsoft.com/a574d...",
                    "submissionTime": "2023-12-20T20:54:41.522GMT",
                    "completionTime": "2023-12-20T20:54:44.082GMT",
                    "stageIds": [
                      23
                    ],
                    "jobGroup": "44",
                    "status": "SUCCEEDED",
                    "numTasks": 4,
                    "numActiveTasks": 0,
                    "numCompletedTasks": 4,
                    "numSkippedTasks": 0,
                    "numFailedTasks": 0,
                    "numKilledTasks": 0,
                    "numCompletedIndices": 4,
                    "numActiveStages": 0,
                    "numCompletedStages": 1,
                    "numSkippedStages": 0,
                    "numFailedStages": 0,
                    "killedTasksSummary": {}
                  }
                ],
                "limit": 20,
                "rule": "ALL_DESC"
              },
              "parent_msg_id": "e7f3494d-a6e3-4679-bfc1-388024299220"
            },
            "text/plain": "StatementMeta(, 91ea5731-a837-42de-8873-9c18c222de28, 44, Finished, Available)"
          },
          "metadata": {}
        }
      ],
      "execution_count": null,
      "metadata": {
        "jupyter": {
          "source_hidden": false,
          "outputs_hidden": false
        },
        "nteract": {
          "transient": {
            "deleting": false
          }
        }
      },
      "id": "2694dcbd-175d-49b1-819d-705b9ebb9723"
    },
    {
      "cell_type": "code",
      "source": [
        "\n",
        "df_from_CSV = spark.read.csv(\"abfss://1860bexxxxxxxxxxxb92e1@onelake.dfs.fabric.microsoft.com/a574d1a3xxxxxxxxxxxxc7128f/Files/animals.csv\")\n",
        "\n",
        "df_from_CSV.show()\n"
      ],
      "outputs": [
        {
          "output_type": "display_data",
          "data": {
            "application/vnd.livy.statement-meta+json": {
              "spark_pool": null,
              "session_id": "91ea5731-a837-42de-8873-9c18c222de28",
              "statement_id": 49,
              "state": "finished",
              "livy_statement_state": "available",
              "queued_time": "2023-12-20T20:58:35.7466539Z",
              "session_start_time": null,
              "execution_start_time": "2023-12-20T20:58:36.1804894Z",
              "execution_finish_time": "2023-12-20T20:58:37.1933981Z",
              "spark_jobs": {
                "numbers": {
                  "RUNNING": 0,
                  "UNKNOWN": 0,
                  "FAILED": 0,
                  "SUCCEEDED": 3
                },
                "jobs": [
                  {
                    "displayName": "showString at NativeMethodAccessorImpl.java:0",
                    "dataWritten": 0,
                    "dataRead": 18,
                    "rowCount": 3,
                    "usageDescription": "",
                    "jobId": 28,
                    "name": "showString at NativeMethodAccessorImpl.java:0",
                    "description": "Job group for statement 49:\n\ndf_from_CSV = spark.read.csv(\"abfss://1860beee-5b6a-48cc-9276-1a8d699b92e1@onelake.dfs.fabric.microsoft.com/a574d1a3-f10e-498e-9202-d95e18c7128f/Files/animals.csv\")\n\ndf_from_CSV.show()\n",
                    "submissionTime": "2023-12-20T20:58:36.470GMT",
                    "completionTime": "2023-12-20T20:58:36.507GMT",
                    "stageIds": [
                      36
                    ],
                    "jobGroup": "49",
                    "status": "SUCCEEDED",
                    "numTasks": 3,
                    "numActiveTasks": 0,
                    "numCompletedTasks": 3,
                    "numSkippedTasks": 0,
                    "numFailedTasks": 0,
                    "numKilledTasks": 0,
                    "numCompletedIndices": 3,
                    "numActiveStages": 0,
                    "numCompletedStages": 1,
                    "numSkippedStages": 0,
                    "numFailedStages": 0,
                    "killedTasksSummary": {}
                  },
                  {
                    "displayName": "showString at NativeMethodAccessorImpl.java:0",
                    "dataWritten": 0,
                    "dataRead": 7,
                    "rowCount": 1,
                    "usageDescription": "",
                    "jobId": 27,
                    "name": "showString at NativeMethodAccessorImpl.java:0",
                    "description": "Job group for statement 49:\n\ndf_from_CSV = spark.read.csv(\"abfss://1860beee-5b6a-48cc-9276-1a8d699b92e1@onelake.dfs.fabric.microsoft.com/a574d1a3-f10e-498e-9202-d95e18c7128f/Files/animals.csv\")\n\ndf_from_CSV.show()\n",
                    "submissionTime": "2023-12-20T20:58:36.422GMT",
                    "completionTime": "2023-12-20T20:58:36.466GMT",
                    "stageIds": [
                      35
                    ],
                    "jobGroup": "49",
                    "status": "SUCCEEDED",
                    "numTasks": 1,
                    "numActiveTasks": 0,
                    "numCompletedTasks": 1,
                    "numSkippedTasks": 0,
                    "numFailedTasks": 0,
                    "numKilledTasks": 0,
                    "numCompletedIndices": 1,
                    "numActiveStages": 0,
                    "numCompletedStages": 1,
                    "numSkippedStages": 0,
                    "numFailedStages": 0,
                    "killedTasksSummary": {}
                  },
                  {
                    "displayName": "csv at NativeMethodAccessorImpl.java:0",
                    "dataWritten": 0,
                    "dataRead": 7,
                    "rowCount": 1,
                    "usageDescription": "",
                    "jobId": 26,
                    "name": "csv at NativeMethodAccessorImpl.java:0",
                    "description": "Job group for statement 49:\n\ndf_from_CSV = spark.read.csv(\"abfss://1860beee-5b6a-48cc-9276-1a8d699b92e1@onelake.dfs.fabric.microsoft.com/a574d1a3-f10e-498e-9202-d95e18c7128f/Files/animals.csv\")\n\ndf_from_CSV.show()\n",
                    "submissionTime": "2023-12-20T20:58:36.287GMT",
                    "completionTime": "2023-12-20T20:58:36.337GMT",
                    "stageIds": [
                      34
                    ],
                    "jobGroup": "49",
                    "status": "SUCCEEDED",
                    "numTasks": 1,
                    "numActiveTasks": 0,
                    "numCompletedTasks": 1,
                    "numSkippedTasks": 0,
                    "numFailedTasks": 0,
                    "numKilledTasks": 0,
                    "numCompletedIndices": 1,
                    "numActiveStages": 0,
                    "numCompletedStages": 1,
                    "numSkippedStages": 0,
                    "numFailedStages": 0,
                    "killedTasksSummary": {}
                  }
                ],
                "limit": 20,
                "rule": "ALL_DESC"
              },
              "parent_msg_id": "8d1a6e9c-9084-4e9b-841a-683a5576280e"
            },
            "text/plain": "StatementMeta(, 91ea5731-a837-42de-8873-9c18c222de28, 49, Finished, Available)"
          },
          "metadata": {}
        },
        {
          "output_type": "stream",
          "name": "stdout",
          "text": [
            "+---+---+---+\n",
            "|_c0|_c1|_c2|\n",
            "+---+---+---+\n",
            "|  2|  2| 10|\n",
            "|  4|  0|  2|\n",
            "|  8|  0|  1|\n",
            "|  0|  0|  8|\n",
            "+---+---+---+\n",
            "\n"
          ]
        }
      ],
      "execution_count": null,
      "metadata": {
        "jupyter": {
          "source_hidden": false,
          "outputs_hidden": false
        },
        "nteract": {
          "transient": {
            "deleting": false
          }
        }
      },
      "id": "0f4dfb48-1bda-44f9-8a2d-deb83d962b7f"
    }
  ],
  "metadata": {
    "save_output": true,
    "microsoft": {
      "host": {},
      "language": "python"
    },
    "notebook_environment": {},
    "widgets": {
      "application/vnd.jupyter.widget-state+json": {
        "version_major": 2,
        "version_minor": 0,
        "state": {
          "36384809a21a4f94a2e4f364e302ca07": {
            "model_name": "FloatSliderModel",
            "model_module": "@jupyter-widgets/controls",
            "model_module_version": "2.0.0",
            "state": {
              "description": "amplitude",
              "value": 3,
              "max": 5,
              "min": 1,
              "step": 0.1,
              "layout": "IPY_MODEL_a060bc52ff004c8fa51c8e0d65194dc0",
              "style": "IPY_MODEL_5010f6361662443780017a4d25d54770",
              "behavior": "drag-tap"
            }
          },
          "41b52a79a927439fbe087eedefda2fd3": {
            "model_name": "LayoutModel",
            "model_module": "@jupyter-widgets/base",
            "model_module_version": "2.0.0",
            "state": {}
          },
          "5efccf0a29e5467193b42001cbb1a6ac": {
            "model_name": "LayoutModel",
            "model_module": "@jupyter-widgets/base",
            "model_module_version": "2.0.0",
            "state": {}
          },
          "4c4cf4c0cb8541a6bc3a0cea1edaea1c": {
            "model_name": "OutputModel",
            "model_module": "@jupyter-widgets/output",
            "model_module_version": "1.0.0",
            "state": {
              "layout": "IPY_MODEL_e36280a61e284f5c9756c9626fe4a88f",
              "outputs": [],
              "msg_id": ""
            }
          },
          "e36280a61e284f5c9756c9626fe4a88f": {
            "model_name": "LayoutModel",
            "model_module": "@jupyter-widgets/base",
            "model_module_version": "2.0.0",
            "state": {}
          },
          "783e9c2d2a3d44bfbe7b799379ba77f1": {
            "model_name": "VBoxModel",
            "model_module": "@jupyter-widgets/controls",
            "model_module_version": "2.0.0",
            "state": {
              "_dom_classes": [
                "widget-interact"
              ],
              "children": [
                "IPY_MODEL_36384809a21a4f94a2e4f364e302ca07",
                "IPY_MODEL_99c34f9d00d34e39869f72828437db86",
                "IPY_MODEL_4c4cf4c0cb8541a6bc3a0cea1edaea1c"
              ],
              "layout": "IPY_MODEL_5efccf0a29e5467193b42001cbb1a6ac"
            }
          },
          "99c34f9d00d34e39869f72828437db86": {
            "model_name": "FloatSliderModel",
            "model_module": "@jupyter-widgets/controls",
            "model_module_version": "2.0.0",
            "state": {
              "description": "frequency",
              "value": 5,
              "max": 10,
              "min": 1,
              "step": 0.1,
              "layout": "IPY_MODEL_41b52a79a927439fbe087eedefda2fd3",
              "style": "IPY_MODEL_95d199df26b14eba9e5116490956421e",
              "behavior": "drag-tap"
            }
          },
          "a060bc52ff004c8fa51c8e0d65194dc0": {
            "model_name": "LayoutModel",
            "model_module": "@jupyter-widgets/base",
            "model_module_version": "2.0.0",
            "state": {}
          },
          "5010f6361662443780017a4d25d54770": {
            "model_name": "SliderStyleModel",
            "model_module": "@jupyter-widgets/controls",
            "model_module_version": "2.0.0",
            "state": {
              "description_width": ""
            }
          },
          "95d199df26b14eba9e5116490956421e": {
            "model_name": "SliderStyleModel",
            "model_module": "@jupyter-widgets/controls",
            "model_module_version": "2.0.0",
            "state": {
              "description_width": ""
            }
          }
        }
      }
    },
    "trident": {
      "lakehouse": {
        "known_lakehouses": [
          {
            "id": "a574d1a3-f10e-498e-9202-d95e18c7128f"
          }
        ],
        "default_lakehouse": "a574d1a3-f10e-498e-9202-d95e18c7128f",
        "default_lakehouse_name": "Advent2023",
        "default_lakehouse_workspace_id": "1860beee-5b6a-48cc-9276-1a8d699b92e1"
      }
    },
    "spark_compute": {
      "compute_id": "/trident/default",
      "session_options": {
        "enableDebugMode": false,
        "conf": {}
      }
    },
    "language_info": {
      "name": "python"
    },
    "synapse_widget": {
      "version": "0.1",
      "state": {}
    },
    "nteract": {
      "version": "0.28.0"
    }
  },
  "nbformat": 4,
  "nbformat_minor": 5
}